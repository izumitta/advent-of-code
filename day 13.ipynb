{
 "cells": [
  {
   "cell_type": "markdown",
   "metadata": {},
   "source": [
    "## Day 13: Transparent Origami \n",
    "\n",
    "### Part 1\n",
    "\n",
    "You reach another volcanically active part of the cave. It would be nice if you could do some kind of thermal imaging so you could tell ahead of time which caves are too hot to safely enter.\n",
    "\n",
    "Fortunately, the submarine seems to be equipped with a thermal camera! When you activate it, you are greeted with:\n",
    "\n",
    "Congratulations on your purchase! To activate this infrared thermal imaging\n",
    "camera system, please enter the code found on page 1 of the manual.\n",
    "Apparently, the Elves have never used this feature. To your surprise, you manage to find the manual; as you go to open it, page 1 falls out. It's a large sheet of transparent paper! The transparent paper is marked with random dots and includes instructions on how to fold it up (your puzzle input. For example:\n",
    "```\n",
    "6,10\n",
    "0,14\n",
    "9,10\n",
    "0,3\n",
    "10,4\n",
    "4,11\n",
    "6,0\n",
    "6,12\n",
    "4,1\n",
    "0,13\n",
    "10,12\n",
    "3,4\n",
    "3,0\n",
    "8,4\n",
    "1,10\n",
    "2,14\n",
    "8,10\n",
    "9,0\n",
    "\n",
    "fold along y=7\n",
    "fold along x=5\n",
    "```\n",
    "The first section is a list of dots on the transparent paper. 0,0 represents the top-left coordinate. The first value, x, increases to the right. The second value, y, increases downward. So, the coordinate 3,0 is to the right of 0,0, and the coordinate 0,7 is below 0,0. The coordinates in this example form the following pattern, where # is a dot on the paper and . is an empty, unmarked position:\n",
    "```\n",
    "...#..#..#.\n",
    "....#......\n",
    "...........\n",
    "#..........\n",
    "...#....#.#\n",
    "...........\n",
    "...........\n",
    "...........\n",
    "...........\n",
    "...........\n",
    ".#....#.##.\n",
    "....#......\n",
    "......#...#\n",
    "#..........\n",
    "#.#........\n",
    "```\n",
    "Then, there is a list of fold instructions. Each instruction indicates a line on the transparent paper and wants you to fold the paper up (for horizontal y=... lines) or left (for vertical x=... lines). In this example, the first fold instruction is fold along y=7, which designates the line formed by all of the positions where y is 7 (marked here with -):\n",
    "```\n",
    "...#..#..#.\n",
    "....#......\n",
    "...........\n",
    "#..........\n",
    "...#....#.#\n",
    "...........\n",
    "...........\n",
    "-----------\n",
    "...........\n",
    "...........\n",
    ".#....#.##.\n",
    "....#......\n",
    "......#...#\n",
    "#..........\n",
    "#.#........\n",
    "```\n",
    "Because this is a horizontal line, fold the bottom half up. Some of the dots might end up overlapping after the fold is complete, but dots will never appear exactly on a fold line. The result of doing this fold looks like this:\n",
    "```\n",
    "#.##..#..#.\n",
    "#...#......\n",
    "......#...#\n",
    "#...#......\n",
    ".#.#..#.###\n",
    "...........\n",
    "...........\n",
    "```\n",
    "Now, only 17 dots are visible.\n",
    "\n",
    "Notice, for example, the two dots in the bottom left corner before the transparent paper is folded; after the fold is complete, those dots appear in the top left corner (at 0,0 and 0,1). Because the paper is transparent, the dot just below them in the result (at 0,3) remains visible, as it can be seen through the transparent paper.\n",
    "\n",
    "Also notice that some dots can end up overlapping; in this case, the dots merge together and become a single dot.\n",
    "\n",
    "The second fold instruction is fold along x=5, which indicates this line:\n",
    "```\n",
    "#.##.|#..#.\n",
    "#...#|.....\n",
    ".....|#...#\n",
    "#...#|.....\n",
    ".#.#.|#.###\n",
    ".....|.....\n",
    ".....|.....\n",
    "```\n",
    "Because this is a vertical line, fold left:\n",
    "```\n",
    "#####\n",
    "#...#\n",
    "#...#\n",
    "#...#\n",
    "#####\n",
    ".....\n",
    ".....\n",
    "```\n",
    "The instructions made a square!\n",
    "\n",
    "The transparent paper is pretty big, so for now, focus on just completing the first fold. After the first fold in the example above, 17 dots are visible - dots that end up overlapping after the fold is completed count as a single dot.\n",
    "\n",
    "How many dots are visible after completing just the first fold instruction on your transparent paper?"
   ]
  },
  {
   "cell_type": "code",
   "execution_count": 1,
   "metadata": {},
   "outputs": [],
   "source": [
    "import numpy as np\n",
    "import re\n",
    "\n",
    "coordinates = []\n",
    "folds = []\n",
    "\n",
    "def parse_numbers(input):\n",
    "    return list(map(int, input))\n",
    "\n",
    "for index, raw_line in enumerate(open(\"input13.txt\", \"r\")):\n",
    "    line = raw_line.strip()    \n",
    "\n",
    "    if re.search(r'\\d+,\\d+', line):\n",
    "        match = re.search(r'\\d+,\\d+', line)\n",
    "        \n",
    "        coordinates.append(parse_numbers(match[0].split(',')))\n",
    "\n",
    "    elif re.search(r'[yx]=\\d+', line):\n",
    "        match = re.search(r'[yx]=\\d+', line)\n",
    "        \n",
    "        axis, number = match[0].split('=')\n",
    "        folds.append([axis, int(number)])"
   ]
  },
  {
   "cell_type": "code",
   "execution_count": 2,
   "metadata": {},
   "outputs": [],
   "source": [
    "# create matrix and put given dots on it\n",
    " \n",
    "max_columns = max(coordinates, key=lambda x: x[0])[0]\n",
    "max_rows = max(coordinates, key=lambda x: x[1])[1]\n",
    "matrix = np.zeros([max_rows+2, max_columns+1], dtype=int)\n",
    "\n",
    "for coord in coordinates:\n",
    "    matrix[coord[1], coord[0]] = 1"
   ]
  },
  {
   "cell_type": "code",
   "execution_count": 3,
   "metadata": {},
   "outputs": [],
   "source": [
    "# vertical(y) fold\n",
    "\n",
    "def y_fold(fold, matrix):    \n",
    "    top_half = matrix[0:fold[1], :]\n",
    "    bottom_half = matrix[fold[1]+1:matrix.shape[0], :]\n",
    "    fliped_bottom = np.flip(bottom_half, 0)\n",
    "    return top_half + fliped_bottom\n",
    "\n",
    "# horizontal(x) fold\n",
    "\n",
    "def x_fold(fold, matrix):\n",
    "    left_half = matrix[:, 0:fold[1]]\n",
    "    right_half = matrix[:, fold[1]+1:matrix.shape[1]]\n",
    "    flipped_right = np.flip(right_half, 1)\n",
    "    return left_half + flipped_right"
   ]
  },
  {
   "cell_type": "code",
   "execution_count": 4,
   "metadata": {},
   "outputs": [
    {
     "name": "stdout",
     "output_type": "stream",
     "text": [
      "Puzzle answer: 708\n"
     ]
    }
   ],
   "source": [
    "result = np.count_nonzero(x_fold(folds[0], matrix) > 0)\n",
    "print(f'Puzzle answer: {result}')"
   ]
  },
  {
   "cell_type": "markdown",
   "metadata": {},
   "source": [
    "### Part 2\n",
    "Finish folding the transparent paper according to the instructions. The manual says the code is always eight capital letters.\n",
    "\n",
    "What code do you use to activate the infrared thermal imaging camera system?"
   ]
  },
  {
   "cell_type": "code",
   "execution_count": 5,
   "metadata": {},
   "outputs": [],
   "source": [
    "matrix_copy = matrix.copy()\n",
    "\n",
    "for fold in folds:\n",
    "    if fold[0] == 'x':\n",
    "        matrix_copy = x_fold(fold, matrix_copy)\n",
    "    else:\n",
    "        matrix_copy = y_fold(fold, matrix_copy)\n",
    "resulting_matrix = matrix_copy"
   ]
  },
  {
   "cell_type": "code",
   "execution_count": 6,
   "metadata": {},
   "outputs": [
    {
     "data": {
      "text/plain": [
       "array([[ 4, 14, 15, 24,  0, 10, 11,  7,  0,  0, 15,  0,  0,  0,  0,  1,\n",
       "         0,  0,  2,  0,  9,  9, 15,  0,  0, 15, 11,  5,  0,  0,  5,  3,\n",
       "        10,  1,  0,  3,  0,  0,  4,  0],\n",
       "       [30,  0,  0,  0,  0,  7,  0,  0,  6,  0, 12,  0,  0,  0,  0,  3,\n",
       "         0,  0,  6,  0,  2,  0,  0,  1,  0,  7,  0,  0,  3,  0,  9,  0,\n",
       "         0,  0,  0, 14,  0,  0, 10,  0],\n",
       "       [ 4, 21,  5,  0,  0,  2,  1,  1,  0,  0, 11,  0,  0,  0,  0,  3,\n",
       "         0,  0,  5,  0,  5,  2,  9,  0,  0,  5,  0,  0,  8,  0,  7, 14,\n",
       "         2,  0,  0, 14,  6,  7,  7,  0],\n",
       "       [ 4,  0,  0,  0,  0, 28,  0,  0,  9,  0, 14,  0,  0,  0,  0,  1,\n",
       "         0,  0,  7,  0, 10,  0,  0, 16,  0, 10,  1,  7,  0,  0, 12,  0,\n",
       "         0,  0,  0,  8,  0,  0,  8,  0],\n",
       "       [14,  0,  0,  0,  0,  7,  0,  0,  5,  0,  9,  0,  0,  0,  0, 11,\n",
       "         0,  0,  1,  0, 16,  0,  0, 22,  0,  6,  0,  5,  0,  0, 15,  0,\n",
       "         0,  0,  0, 18,  0,  0, 25,  0],\n",
       "       [ 2,  6,  5, 33,  0,  2,  4,  9,  0,  0,  3,  3,  3,  5,  0,  0,\n",
       "         2, 15,  0,  0, 11,  6,  3,  0,  0,  3,  0,  0,  6,  0,  3,  0,\n",
       "         0,  0,  0,  7,  0,  0,  4,  0]])"
      ]
     },
     "execution_count": 6,
     "metadata": {},
     "output_type": "execute_result"
    }
   ],
   "source": [
    "# alternative solution with recursion\n",
    "def fold_all(folds, matrix):\n",
    "    if len(folds) == 0:\n",
    "        return matrix\n",
    "\n",
    "    fold = folds[0]\n",
    "\n",
    "    if fold[0] == 'x':\n",
    "        return fold_all(folds[1:], x_fold(fold, matrix))\n",
    "    else:\n",
    "        return fold_all(folds[1:], y_fold(fold, matrix))\n",
    "\n",
    "fold_all(folds, matrix)"
   ]
  },
  {
   "cell_type": "code",
   "execution_count": 7,
   "metadata": {},
   "outputs": [
    {
     "data": {
      "image/png": "[encoded data removed]",
      "text/plain": [
       "<Figure size 2880x432 with 1 Axes>"
      ]
     },
     "metadata": {},
     "output_type": "display_data"
    }
   ],
   "source": [
    "import seaborn as sns\n",
    "import matplotlib.pyplot as plt\n",
    "\n",
    "size = tuple(reversed(resulting_matrix.shape))\n",
    "\n",
    "plt.figure(figsize=size)\n",
    "ax = sns.heatmap(resulting_matrix, mask=resulting_matrix > 0, yticklabels=False, xticklabels=False, cbar=False)\n",
    "\n",
    "for _, spine in ax.spines.items():\n",
    "    spine.set_visible(True)\n",
    "    spine.set_linewidth(6)\n",
    "plt.show()"
   ]
  },
  {
   "cell_type": "markdown",
   "metadata": {},
   "source": [
    "Puzzle answer: EBLUBRFH"
   ]
  }
 ],
 "metadata": {
  "interpreter": {
   "hash": "7f2cc9fe8adcc67a6d9fc73c789c5466d83651e7cd98b575e0c7c5fb89e9c958"
  },
  "kernelspec": {
   "display_name": "Python 3.8.8 64-bit ('base': conda)",
   "language": "python",
   "name": "python3"
  },
  "language_info": {
   "codemirror_mode": {
    "name": "ipython",
    "version": 3
   },
   "file_extension": ".py",
   "mimetype": "text/x-python",
   "name": "python",
   "nbconvert_exporter": "python",
   "pygments_lexer": "ipython3",
   "version": "3.8.8"
  },
  "orig_nbformat": 4
 },
 "nbformat": 4,
 "nbformat_minor": 2
}
