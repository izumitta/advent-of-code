{
 "cells": [
  {
   "cell_type": "markdown",
   "metadata": {},
   "source": [
    "## Day 5: Hydrothermal Venture"
   ]
  },
  {
   "cell_type": "markdown",
   "metadata": {},
   "source": [
    "### Part 1\n",
    "\n",
    "You come across a field of hydrothermal vents on the ocean floor! These vents constantly produce large, opaque clouds, so it would be best to avoid them if possible.\n",
    "\n",
    "They tend to form in lines; the submarine helpfully produces a list of nearby lines of vents (your puzzle input) for you to review. For example:\n",
    "```\n",
    "0,9 -> 5,9\n",
    "8,0 -> 0,8\n",
    "9,4 -> 3,4\n",
    "2,2 -> 2,1\n",
    "7,0 -> 7,4\n",
    "6,4 -> 2,0\n",
    "0,9 -> 2,9\n",
    "3,4 -> 1,4\n",
    "0,0 -> 8,8\n",
    "5,5 -> 8,2\n",
    "```\n",
    "Each line of vents is given as a line segment in the format x1,y1 -> x2,y2 where x1,y1 are the coordinates of one end the line segment and x2,y2 are the coordinates of the other end. These line segments include the points at both ends. In other words:\n",
    "- An entry like 1,1 -> 1,3 covers points 1,1, 1,2, and 1,3.\n",
    "- An entry like 9,7 -> 7,7 covers points 9,7, 8,7, and 7,7.\n",
    "\n",
    "For now, only consider horizontal and vertical lines: lines where either x1 = x2 or y1 = y2.\n",
    "\n",
    "So, the horizontal and vertical lines from the above list would produce the following diagram:\n",
    "```\n",
    ".......1..\n",
    "..1....1..\n",
    "..1....1..\n",
    ".......1..\n",
    ".112111211\n",
    "..........\n",
    "..........\n",
    "..........\n",
    "..........\n",
    "222111....\n",
    "```\n",
    "In this diagram, the top left corner is 0,0 and the bottom right corner is 9,9. Each position is shown as the number of lines which cover that point or . if no line covers that point. The top-left pair of 1s, for example, comes from 2,2 -> 2,1; the very bottom row is formed by the overlapping lines 0,9 -> 5,9 and 0,9 -> 2,9.\n",
    "\n",
    "To avoid the most dangerous areas, you need to determine the number of points where at least two lines overlap. In the above example, this is anywhere in the diagram with a 2 or larger - a total of 5 points.\n",
    "\n",
    "Consider only horizontal and vertical lines. At how many points do at least two lines overlap?"
   ]
  },
  {
   "cell_type": "code",
   "execution_count": 14,
   "metadata": {},
   "outputs": [
    {
     "name": "stdout",
     "output_type": "stream",
     "text": [
      "[[[62, 963], [844, 181]], [[58, 85], [917, 944]], [[137, 76], [137, 347]], [[453, 125], [347, 19]], [[178, 65], [977, 864]]]\n"
     ]
    }
   ],
   "source": [
    "from collections import Counter\n",
    "import doctest\n",
    "\n",
    "def parse_numbers(input):\n",
    "    return list(map(int, input))\n",
    "\n",
    "coordinates = []\n",
    "\n",
    "for index, raw_line in enumerate(open(\"input5.txt\", \"r\")):\n",
    "    line = raw_line.strip()\n",
    "    x = list(map(lambda x: parse_numbers(x.split(',')), line.split(' -> ')))\n",
    "    coordinates.append(x)\n",
    "\n",
    "print(coordinates[:5])"
   ]
  },
  {
   "cell_type": "code",
   "execution_count": 15,
   "metadata": {},
   "outputs": [],
   "source": [
    "def is_vector(coordinates):\n",
    "    start, end = coordinates\n",
    "    return start[0] == end[0] or start[1] == end[1]"
   ]
  },
  {
   "cell_type": "code",
   "execution_count": 16,
   "metadata": {},
   "outputs": [
    {
     "data": {
      "text/plain": [
       "TestResults(failed=0, attempted=7)"
      ]
     },
     "execution_count": 16,
     "metadata": {},
     "output_type": "execute_result"
    }
   ],
   "source": [
    "def get_coordinate_steps(coordinates):\n",
    "    \"\"\"\n",
    "    >>> get_coordinate_steps([[0, 9], [5, 9]])\n",
    "    [[0, 9], [1, 9], [2, 9], [3, 9], [4, 9], [5, 9]]\n",
    "\n",
    "    >>> get_coordinate_steps([[5, 9], [0, 9]])\n",
    "    [[5, 9], [4, 9], [3, 9], [2, 9], [1, 9], [0, 9]]\n",
    "\n",
    "    >>> get_coordinate_steps([[8, 0], [0, 8]])\n",
    "    [[8, 0], [7, 1], [6, 2], [5, 3], [4, 4], [3, 5], [2, 6], [1, 7], [0, 8]]\n",
    "\n",
    "    >>> get_coordinate_steps([[2, 2], [2, 1]])\n",
    "    [[2, 2], [2, 1]]\n",
    "\n",
    "    >>> get_coordinate_steps([[7, 0], [7, 4]])\n",
    "    [[7, 0], [7, 1], [7, 2], [7, 3], [7, 4]]\n",
    "\n",
    "    >>> get_coordinate_steps([[5,5], [8,2]])\n",
    "    [[5, 5], [6, 4], [7, 3], [8, 2]]\n",
    "\n",
    "    >>> get_coordinate_steps([[6,4], [2,0]])\n",
    "    [[6, 4], [5, 3], [4, 2], [3, 1], [2, 0]]\n",
    "    \"\"\"\n",
    "    coord_steps = []\n",
    "    start, end = coordinates\n",
    "    x_diff = end[0] - start[0]\n",
    "    y_diff = end[1] - start[1]\n",
    "    diff = abs(x_diff or y_diff)\n",
    "\n",
    "    x_dir = x_diff and (1 if x_diff > 0 else -1)\n",
    "    y_dir = y_diff and (1 if y_diff > 0 else -1)\n",
    "    \n",
    "    for delta in range(diff+1):\n",
    "        coord_steps.append([start[0] + delta * x_dir, start[1] + delta * y_dir])\n",
    "    return coord_steps\n",
    "\n",
    "doctest.testmod()"
   ]
  },
  {
   "cell_type": "code",
   "execution_count": 17,
   "metadata": {},
   "outputs": [],
   "source": [
    "def print_result(coordinates):\n",
    "    result = sum(list(map(get_coordinate_steps, coordinates)), [])\n",
    "    coords_as_strings = list(map(lambda x: str(x), result))\n",
    "\n",
    "    counts = Counter(coords_as_strings).values()\n",
    "    print(f'Puzzle answer: {len(list(filter(lambda x: x > 1, counts)))}')"
   ]
  },
  {
   "cell_type": "code",
   "execution_count": 18,
   "metadata": {},
   "outputs": [
    {
     "name": "stdout",
     "output_type": "stream",
     "text": [
      "Puzzle answer: 5442\n"
     ]
    }
   ],
   "source": [
    "vectors_list = list(filter(is_vector, coordinates))\n",
    "print_result(vectors_list)"
   ]
  },
  {
   "cell_type": "markdown",
   "metadata": {},
   "source": [
    "### Part Two\n",
    "Unfortunately, considering only horizontal and vertical lines doesn't give you the full picture; you need to also consider diagonal lines.\n",
    "\n",
    "Because of the limits of the hydrothermal vent mapping system, the lines in your list will only ever be horizontal, vertical, or a diagonal line at exactly 45 degrees. In other words:\n",
    "\n",
    "An entry like 1,1 -> 3,3 covers points 1,1, 2,2, and 3,3.\n",
    "An entry like 9,7 -> 7,9 covers points 9,7, 8,8, and 7,9.\n",
    "Considering all lines from the above example would now produce the following diagram:\n",
    "```\n",
    "1.1....11.\n",
    ".111...2..\n",
    "..2.1.111.\n",
    "...1.2.2..\n",
    ".112313211\n",
    "...1.2....\n",
    "..1...1...\n",
    ".1.....1..\n",
    "1.......1.\n",
    "222111....\n",
    "```\n",
    "You still need to determine the number of points where at least two lines overlap. In the above example, this is still anywhere in the diagram with a 2 or larger - now a total of 12 points.\n",
    "\n",
    "Consider all of the lines. At how many points do at least two lines overlap?"
   ]
  },
  {
   "cell_type": "code",
   "execution_count": 19,
   "metadata": {},
   "outputs": [
    {
     "name": "stdout",
     "output_type": "stream",
     "text": [
      "Puzzle answer: 19571\n"
     ]
    }
   ],
   "source": [
    "print_result(coordinates)"
   ]
  }
 ],
 "metadata": {
  "interpreter": {
   "hash": "7f2cc9fe8adcc67a6d9fc73c789c5466d83651e7cd98b575e0c7c5fb89e9c958"
  },
  "kernelspec": {
   "display_name": "Python 3.8.8 64-bit ('base': conda)",
   "language": "python",
   "name": "python3"
  },
  "language_info": {
   "codemirror_mode": {
    "name": "ipython",
    "version": 3
   },
   "file_extension": ".py",
   "mimetype": "text/x-python",
   "name": "python",
   "nbconvert_exporter": "python",
   "pygments_lexer": "ipython3",
   "version": "3.8.8"
  },
  "orig_nbformat": 4
 },
 "nbformat": 4,
 "nbformat_minor": 2
}
