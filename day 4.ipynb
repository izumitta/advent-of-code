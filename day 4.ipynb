{
 "cells": [
  {
   "cell_type": "markdown",
   "id": "9ff91f01",
   "metadata": {},
   "source": [
    "## Day 4 Giant Squid"
   ]
  },
  {
   "cell_type": "markdown",
   "id": "a6feb461",
   "metadata": {},
   "source": [
    "### Part 1\n",
    "\n",
    "You're already almost 1.5km (almost a mile) below the surface of the ocean, already so deep that you can't see any sunlight. What you can see, however, is a giant squid that has attached itself to the outside of your submarine.\n",
    "\n",
    "Maybe it wants to play bingo?\n",
    "\n",
    "Bingo is played on a set of boards each consisting of a 5x5 grid of numbers. Numbers are chosen at random, and the chosen number is marked on all boards on which it appears. (Numbers may not appear on all boards.) If all numbers in any row or any column of a board are marked, that board wins. (Diagonals don't count.)\n",
    "\n",
    "The submarine has a bingo subsystem to help passengers (currently, you and the giant squid) pass the time. It automatically generates a random order in which to draw numbers and a random set of boards (your puzzle input). For example:\n",
    "```\n",
    "7,4,9,5,11,17,23,2,0,14,21,24,10,16,13,6,15,25,12,22,18,20,8,19,3,26,1\n",
    "\n",
    "22 13 17 11  0\n",
    " 8  2 23  4 24\n",
    "21  9 14 16  7\n",
    " 6 10  3 18  5\n",
    " 1 12 20 15 19\n",
    "\n",
    " 3 15  0  2 22\n",
    " 9 18 13 17  5\n",
    "19  8  7 25 23\n",
    "20 11 10 24  4\n",
    "14 21 16 12  6\n",
    "\n",
    "14 21 17 24  4\n",
    "10 16 15  9 19\n",
    "18  8 23 26 20\n",
    "22 11 13  6  5\n",
    " 2  0 12  3  7\n",
    " ```\n",
    "After the first five numbers are drawn (7, 4, 9, 5, and 11), there are no winners, but the boards are marked as follows (marked here with dots):\n",
    "```\n",
    "22 13 17 11. 0        3 15  0  2 22        14 21 17 24  4.\n",
    " 8  2 23  4.24        9.18 13 17  5.       10 16 15  9.19\n",
    "21  9.14 16  7.      19  8  7.25 23        18  8 23 26 20\n",
    " 6 10  3 18  5.      20 11.10 24  4.       22 11.13  6  5.\n",
    " 1 12 20 15 19       14 21 16 12  6         2  0 12  3  7.\n",
    "```\n",
    "After the next six numbers are drawn (17, 23, 2, 0, 14, and 21), there are still no winners:\n",
    "```\n",
    "22 13 17.11. 0.       3 15  0. 2.22        14.21.17.24  4.\n",
    " 8  2.23. 4.24        9.18 13 17. 5.       10 16 15  9.19\n",
    "21. 9.14.16  7.      19  8  7.25 23.       18  8 23.26 20\n",
    " 6 10  3 18  5.      20 11.10 24  4.       22 11.13  6  5.\n",
    " 1 12 20 15 19       14.21.16 12  6         2. 0.12  3  7.\n",
    "```\n",
    "Finally, 24 is drawn:\n",
    "```\n",
    "22 13 17.11. 0.       3 15  0. 2.22        14.21.17.24. 4.\n",
    " 8  2.23. 4.24.       9.18 13 17. 5.       10 16 15  9.19\n",
    "21. 9.14.16  7.      19  8  7.25 23.       18  8 23.26 20\n",
    " 6 10  3 18  5.      20 11.10 24. 4.       22 11.13  6  5.\n",
    " 1 12 20 15 19       14.21.16 12  6         2. 0.12  3  7.\n",
    "```\n",
    "At this point, the third board wins because it has at least one complete row or column of marked numbers (in this case, the entire top row is marked: 14 21 17 24 4).\n",
    "\n",
    "The score of the winning board can now be calculated. Start by finding the sum of all unmarked numbers on that board; in this case, the sum is 188. Then, multiply that sum by the number that was just called when the board won, 24, to get the final score, 188 * 24 = 4512.\n",
    "\n",
    "To guarantee victory against the giant squid, figure out which board will win first. What will your final score be if you choose that board?"
   ]
  },
  {
   "cell_type": "code",
   "execution_count": 1,
   "id": "ac33cfaa",
   "metadata": {},
   "outputs": [
    {
     "name": "stdout",
     "output_type": "stream",
     "text": [
      "Numbers: [23, 91, 18, 32, 73, 14, 20, 4, 10, 55, 40, 29, 13, 25, 48, 65, 2, 80, 22, 16, 93, 85, 66, 21, 9, 36, 47, 72, 88, 58, 5, 42, 53, 69, 52, 8, 54, 63, 76, 12, 6, 99, 35, 95, 82, 49, 41, 17, 62, 34, 51, 77, 94, 7, 28, 71, 92, 74, 46, 79, 26, 19, 97, 86, 87, 37, 57, 64, 1, 30, 11, 96, 70, 44, 83, 0, 56, 90, 59, 78, 61, 98, 89, 43, 3, 84, 67, 38, 68, 27, 81, 39, 15, 50, 60, 24, 45, 75, 33, 31]\n",
      "5 boards: [[67, 97, 50, 51, 1, 47, 15, 77, 31, 66, 24, 14, 55, 70, 52, 76, 46, 19, 32, 73, 34, 22, 54, 75, 17], [44, 11, 97, 50, 71, 66, 7, 24, 9, 67, 88, 39, 82, 93, 57, 77, 5, 6, 58, 51, 85, 61, 65, 70, 23], [72, 74, 58, 71, 41, 4, 57, 45, 89, 67, 78, 55, 66, 28, 48, 82, 61, 87, 85, 84, 96, 8, 94, 76, 97], [25, 33, 45, 16, 68, 60, 27, 22, 13, 29, 92, 95, 93, 50, 36, 43, 1, 66, 51, 99, 85, 14, 20, 52, 58], [65, 47, 18, 50, 90, 44, 25, 11, 70, 81, 86, 36, 45, 10, 85, 43, 89, 74, 0, 14, 97, 59, 32, 91, 5]]\n"
     ]
    }
   ],
   "source": [
    "import numpy as np\n",
    "import re\n",
    "\n",
    "numbers = []\n",
    "boards = []\n",
    "\n",
    "board = []\n",
    "\n",
    "def parse_numbers(input):\n",
    "    return list(map(int, input))\n",
    "\n",
    "for index, raw_line in enumerate(open(\"input4.txt\", \"r\")):\n",
    "    line = raw_line.strip()    \n",
    "    if index == 0:\n",
    "        numbers = parse_numbers(line.split(','))\n",
    "\n",
    "    elif index == 1:\n",
    "        continue\n",
    "        \n",
    "    elif line == '':\n",
    "        boards.append(board)\n",
    "        board = []\n",
    "        \n",
    "    else:\n",
    "        board += parse_numbers(re.split('\\s+', line))\n",
    "\n",
    "boards.append(board)\n",
    "    \n",
    "print('Numbers:', numbers)\n",
    "print('5 boards:', boards[:5])"
   ]
  },
  {
   "cell_type": "code",
   "execution_count": 2,
   "id": "3b791ee1",
   "metadata": {},
   "outputs": [],
   "source": [
    "def check_num(board, number):\n",
    "    \"\"\" Check if draw number exists on board. \"\"\"\n",
    "    return list(map(lambda x: x if x != number else None , board))\n",
    "\n",
    "def check_win(board):\n",
    "    \"\"\" Check board for win after each draw. \"\"\"\n",
    "    board_2d = np.array(board).reshape(5,5)\n",
    "    for dimension in range(5):\n",
    "        if sum(x is None for x in board_2d[dimension]) == 5:\n",
    "            return True\n",
    "            \n",
    "        elif sum(x is None for x in board_2d[ : ,dimension]) == 5:\n",
    "            return True\n",
    "\n",
    "def check_board(numbers, board):\n",
    "    \"\"\" Check if board wins. \"\"\" \n",
    "    board_copy = board.copy()\n",
    "    for index, num in enumerate(numbers):\n",
    "        board_copy = check_num(board_copy, num)\n",
    "        check = check_win(board_copy)\n",
    "        if check:\n",
    "            return [board_copy, index]"
   ]
  },
  {
   "cell_type": "code",
   "execution_count": 3,
   "id": "b7b3db97",
   "metadata": {},
   "outputs": [
    {
     "name": "stdout",
     "output_type": "stream",
     "text": [
      "Puzzle answer: 33348\n"
     ]
    }
   ],
   "source": [
    "winning_board = [[], 100]\n",
    "\n",
    "for board in boards:\n",
    "    board, win_num = check_board(numbers, board)\n",
    "    if win_num < winning_board[1]:\n",
    "       winning_board = [board, win_num] \n",
    "\n",
    "# sum of numbers left on the winning board\n",
    "win_sum = sum(list(filter(None, winning_board[0])))\n",
    "\n",
    "# winning number\n",
    "win_num = numbers[winning_board[1]]\n",
    "\n",
    "print(f'Puzzle answer: {win_sum * win_num}')"
   ]
  },
  {
   "cell_type": "markdown",
   "id": "e9ab3c07",
   "metadata": {},
   "source": [
    "### Part Two\n",
    "\n",
    "On the other hand, it might be wise to try a different strategy: let the giant squid win.\n",
    "\n",
    "You aren't sure how many bingo boards a giant squid could play at once, so rather than waste time counting its arms, the safe thing to do is to figure out which board will win last and choose that one. That way, no matter which boards it picks, it will win for sure.\n",
    "\n",
    "In the above example, the second board is the last to win, which happens after 13 is eventually called and its middle column is completely marked. If you were to keep playing until this point, the second board would have a sum of unmarked numbers equal to 148 for a final score of 148 * 13 = 1924.\n",
    "\n",
    "Figure out which board will win last. Once it wins, what would its final score be?"
   ]
  },
  {
   "cell_type": "code",
   "execution_count": 4,
   "id": "ceded88a",
   "metadata": {},
   "outputs": [
    {
     "name": "stdout",
     "output_type": "stream",
     "text": [
      "Puzzle answer: 8112\n"
     ]
    }
   ],
   "source": [
    "loosing_board = [[], 0]\n",
    "\n",
    "for board in boards:\n",
    "    board, win_num = check_board(numbers, board)\n",
    "    if win_num > loosing_board[1]:\n",
    "       loosing_board = [board, win_num] \n",
    "\n",
    "# sum of numbers left on the loosing board\n",
    "loose_sum = sum(list(filter(None, loosing_board[0])))\n",
    "\n",
    "# winning number for loosing board\n",
    "loose_num = numbers[loosing_board[1]]\n",
    "\n",
    "print(f'Puzzle answer: {loose_sum * loose_num}')"
   ]
  }
 ],
 "metadata": {
  "kernelspec": {
   "display_name": "Python 3",
   "language": "python",
   "name": "python3"
  },
  "language_info": {
   "codemirror_mode": {
    "name": "ipython",
    "version": 3
   },
   "file_extension": ".py",
   "mimetype": "text/x-python",
   "name": "python",
   "nbconvert_exporter": "python",
   "pygments_lexer": "ipython3",
   "version": "3.8.8"
  }
 },
 "nbformat": 4,
 "nbformat_minor": 5
}
