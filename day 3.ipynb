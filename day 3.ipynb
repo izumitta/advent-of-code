{
 "cells": [
  {
   "cell_type": "markdown",
   "id": "68bb0c23",
   "metadata": {},
   "source": [
    "## Day 3: Binary Diagnostic"
   ]
  },
  {
   "cell_type": "markdown",
   "id": "a94b3620",
   "metadata": {},
   "source": [
    "### Part 1\n",
    "\n",
    "The submarine has been making some odd creaking noises, so you ask it to produce a diagnostic report just in case.\n",
    "\n",
    "The diagnostic report (your puzzle input) consists of a list of binary numbers which, when decoded properly, can tell you many useful things about the conditions of the submarine. The first parameter to check is the power consumption.\n",
    "\n",
    "You need to use the binary numbers in the diagnostic report to generate two new binary numbers (called the gamma rate and the epsilon rate). The power consumption can then be found by multiplying the gamma rate by the epsilon rate.\n",
    "\n",
    "Each bit in the gamma rate can be determined by finding the most common bit in the corresponding position of all numbers in the diagnostic report. For example, given the following diagnostic report:\n",
    "\n",
    "```\n",
    "00100\n",
    "11110\n",
    "10110\n",
    "10111\n",
    "10101\n",
    "01111\n",
    "00111\n",
    "11100\n",
    "10000\n",
    "11001\n",
    "00010\n",
    "01010\n",
    "```\n",
    "\n",
    "Considering only the first bit of each number, there are five 0 bits and seven 1 bits. Since the most common bit is 1, the first bit of the gamma rate is 1.\n",
    "\n",
    "The most common second bit of the numbers in the diagnostic report is 0, so the second bit of the gamma rate is 0.\n",
    "\n",
    "The most common value of the third, fourth, and fifth bits are 1, 1, and 0, respectively, and so the final three bits of the gamma rate are 110.\n",
    "\n",
    "So, the gamma rate is the binary number 10110, or 22 in decimal.\n",
    "\n",
    "The epsilon rate is calculated in a similar way; rather than use the most common bit, the least common bit from each position is used. So, the epsilon rate is 01001, or 9 in decimal. Multiplying the gamma rate (22) by the epsilon rate (9) produces the power consumption, 198.\n",
    "\n",
    "Use the binary numbers in your diagnostic report to calculate the gamma rate and epsilon rate, then multiply them together. What is the power consumption of the submarine? (Be sure to represent your answer in decimal, not binary.)"
   ]
  },
  {
   "cell_type": "code",
   "execution_count": 16,
   "id": "7e201eb7",
   "metadata": {},
   "outputs": [
    {
     "name": "stdout",
     "output_type": "stream",
     "text": [
      "['000001000101', '101011100101', '100011100110', '101001111000', '000001000110']\n"
     ]
    }
   ],
   "source": [
    "list_of_bytes = []\n",
    "\n",
    "for line in open(\"input3.txt\", \"r\"):\n",
    "    stripped_line = line.strip()\n",
    "    list_of_bytes.append(stripped_line)\n",
    "\n",
    "print(list_of_bytes[:5])"
   ]
  },
  {
   "cell_type": "code",
   "execution_count": 17,
   "id": "bc51f172",
   "metadata": {},
   "outputs": [
    {
     "name": "stdout",
     "output_type": "stream",
     "text": [
      "Puzzle answer: 738234\n"
     ]
    }
   ],
   "source": [
    "gamma_rate = []\n",
    "epsilon_rate = []\n",
    "\n",
    "for num in range(12):\n",
    "    count = []\n",
    "    \n",
    "    for i in list_of_bytes:\n",
    "        count.append(int(i[num]))\n",
    "    \n",
    "    byte_sum = sum(count)\n",
    "    if byte_sum > len(list_of_bytes)/2:\n",
    "        gamma_rate.append(1)\n",
    "        epsilon_rate.append(0)\n",
    "    else:\n",
    "        gamma_rate.append(0)\n",
    "        epsilon_rate.append(1)\n",
    "\n",
    "number_gamma = ''.join(map(str,gamma_rate))\n",
    "number_epsilon = ''.join(map(str,epsilon_rate))\n",
    "\n",
    "result = int(number_gamma, 2) * int(number_epsilon, 2)\n",
    "\n",
    "print(f'Puzzle answer: {result}')"
   ]
  },
  {
   "cell_type": "markdown",
   "id": "0821d9c4",
   "metadata": {},
   "source": [
    "### Part 2\n",
    "\n",
    "Next, you should verify the life support rating, which can be determined by multiplying the oxygen generator rating by the CO2 scrubber rating.\n",
    "\n",
    "Both the oxygen generator rating and the CO2 scrubber rating are values that can be found in your diagnostic report - finding them is the tricky part. Both values are located using a similar process that involves filtering out values until only one remains. Before searching for either rating value, start with the full list of binary numbers from your diagnostic report and consider just the first bit of those numbers. Then:\n",
    "\n",
    "- Keep only numbers selected by the bit criteria for the type of rating value for which you are searching. Discard numbers which do not match the bit criteria.\n",
    "- If you only have one number left, stop; this is the rating value for which you are searching.\n",
    "- Otherwise, repeat the process, considering the next bit to the right.\n",
    "\n",
    "The bit criteria depends on which type of rating value you want to find:\n",
    "\n",
    "- To find oxygen generator rating, determine the most common value (0 or 1) in the current bit position, and keep only numbers with that bit in that position. If 0 and 1 are equally common, keep values with a 1 in the position being considered.\n",
    "- To find CO2 scrubber rating, determine the least common value (0 or 1) in the current bit position, and keep only numbers with that bit in that position. If 0 and 1 are equally common, keep values with a 0 in the position being considered.\n",
    "\n",
    "For example, to determine the oxygen generator rating value using the same example diagnostic report from above:\n",
    "\n",
    "```\n",
    "00100\n",
    "11110\n",
    "10110\n",
    "10111\n",
    "10101\n",
    "01111\n",
    "00111\n",
    "11100\n",
    "10000\n",
    "11001\n",
    "00010\n",
    "01010\n",
    "```\n",
    "\n",
    "- Start with all 12 numbers and consider only the first bit of each number. There are more 1 bits (7) than 0 bits (5), so keep only the 7 numbers with a 1 in the first position: 11110, 10110, 10111, 10101, 11100, 10000, and 11001.\n",
    "- Then, consider the second bit of the 7 remaining numbers: there are more 0 bits (4) than 1 bits (3), so keep only the 4 numbers with a 0 in the second position: 10110, 10111, 10101, and 10000.\n",
    "- In the third position, three of the four numbers have a 1, so keep those three: 10110, 10111, and 10101.\n",
    "- In the fourth position, two of the three numbers have a 1, so keep those two: 10110 and 10111.\n",
    "- In the fifth position, there are an equal number of 0 bits and 1 bits (one each). So, to find the oxygen generator   rating, keep the number with a 1 in that position: 10111.\n",
    "- As there is only one number left, stop; the oxygen generator rating is 10111, or 23 in decimal.\n",
    "\n",
    "Then, to determine the CO2 scrubber rating value from the same example above:\n",
    "\n",
    "- Start again with all 12 numbers and consider only the first bit of each number. There are fewer 0 bits (5) than 1 bits (7), so keep only the 5 numbers with a 0 in the first position: 00100, 01111, 00111, 00010, and 01010.\n",
    "- Then, consider the second bit of the 5 remaining numbers: there are fewer 1 bits (2) than 0 bits (3), so keep only the 2 numbers with a 1 in the second position: 01111 and 01010.\n",
    "- In the third position, there are an equal number of 0 bits and 1 bits (one each). So, to find the CO2 scrubber rating, keep the number with a 0 in that position: 01010.\n",
    "- As there is only one number left, stop; the CO2 scrubber rating is 01010, or 10 in decimal.\n",
    "\n",
    "Finally, to find the life support rating, multiply the oxygen generator rating (23) by the CO2 scrubber rating (10) to get 230.\n",
    "\n",
    "Use the binary numbers in your diagnostic report to calculate the oxygen generator rating and CO2 scrubber rating, then multiply them together. What is the life support rating of the submarine? (Be sure to represent your answer in decimal, not binary.)"
   ]
  },
  {
   "cell_type": "code",
   "execution_count": 23,
   "id": "ba6fe9b3",
   "metadata": {},
   "outputs": [
    {
     "name": "stdout",
     "output_type": "stream",
     "text": [
      "['000001000101', '101011100101', '100011100110', '101001111000', '000001000110']\n"
     ]
    }
   ],
   "source": [
    "data = []\n",
    "\n",
    "for line in open(\"input3.txt\", \"r\"):\n",
    "    stripped_line = line.strip()\n",
    "    data.append(stripped_line)\n",
    "\n",
    "print(data[:5])"
   ]
  },
  {
   "cell_type": "code",
   "execution_count": 24,
   "id": "f040aff7",
   "metadata": {},
   "outputs": [],
   "source": [
    "def oxygen_counter(data):\n",
    "    oxygen_data = data.copy()\n",
    "    \n",
    "    for num in range(12):\n",
    "        count = []\n",
    "        for i in oxygen_data:\n",
    "            count.append(int(i[num]))\n",
    "            \n",
    "        byte_sum = sum(count)\n",
    "        \n",
    "        if len(oxygen_data) == 1:\n",
    "            oxygen_data\n",
    "            \n",
    "        # if there is more 1 than 0\n",
    "        elif byte_sum >= len(oxygen_data)/2:   \n",
    "            # drop bytes with 0\n",
    "            for index, item in enumerate(oxygen_data):\n",
    "                if oxygen_data[index][num] == '0':\n",
    "                    oxygen_data[index] = None\n",
    "\n",
    "            oxygen_data = [x for x in oxygen_data if x]        \n",
    "        \n",
    "        # if there is more 0 than 1\n",
    "        else:\n",
    "            # drop bytes with 1\n",
    "            for index, item in enumerate(oxygen_data):\n",
    "                if oxygen_data[index][num] == '1':\n",
    "                    oxygen_data[index] = None              \n",
    "            oxygen_data = [x for x in oxygen_data if x] \n",
    "    return int(oxygen_data[0], 2)\n",
    "\n",
    "def co2_counter(data):\n",
    "    co2_data = data.copy()\n",
    "    for num in range(12):\n",
    "        count = []\n",
    "        for item in co2_data:\n",
    "            count.append(int(item[num]))\n",
    "            \n",
    "        byte_sum = sum(count)\n",
    "        \n",
    "        if len(co2_data) == 1:\n",
    "            co2_data\n",
    "        # if there is more 0 than 1\n",
    "        elif byte_sum < len(co2_data)/2:   \n",
    "            # drop bytes with 0\n",
    "            for index, item in enumerate(co2_data):\n",
    "                if co2_data[index][num] == '0':\n",
    "                    co2_data[index] = None\n",
    "\n",
    "            co2_data = [x for x in co2_data if x]        \n",
    "        \n",
    "        # if there is more 1 than 0\n",
    "        else:\n",
    "            # drop bytes with 1\n",
    "            for index, item in enumerate(co2_data):\n",
    "                if co2_data[index][num] == '1':\n",
    "                    co2_data[index] = None              \n",
    "            co2_data = [x for x in co2_data if x] \n",
    "    return int(co2_data[0], 2)"
   ]
  },
  {
   "cell_type": "code",
   "execution_count": 25,
   "id": "b8ca08f4",
   "metadata": {},
   "outputs": [
    {
     "name": "stdout",
     "output_type": "stream",
     "text": [
      "Puzzle answer: 3969126\n"
     ]
    }
   ],
   "source": [
    "print(f'Puzzle answer: {oxygen_counter(data) * co2_counter(data)}')"
   ]
  }
 ],
 "metadata": {
  "kernelspec": {
   "display_name": "Python 3",
   "language": "python",
   "name": "python3"
  },
  "language_info": {
   "codemirror_mode": {
    "name": "ipython",
    "version": 3
   },
   "file_extension": ".py",
   "mimetype": "text/x-python",
   "name": "python",
   "nbconvert_exporter": "python",
   "pygments_lexer": "ipython3",
   "version": "3.8.8"
  }
 },
 "nbformat": 4,
 "nbformat_minor": 5
}
